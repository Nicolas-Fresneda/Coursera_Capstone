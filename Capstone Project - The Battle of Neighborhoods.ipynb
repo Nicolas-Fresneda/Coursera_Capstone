{
    "cells": [
        {
            "cell_type": "markdown",
            "metadata": {
                "collapsed": true
            },
            "source": "# Capstone Project - The Battle of Neighborhoods"
        },
        {
            "cell_type": "markdown",
            "metadata": {},
            "source": "## Introduction / Business problem"
        },
        {
            "cell_type": "markdown",
            "metadata": {},
            "source": "The food and restaurant business is in great demand, by companies, universities, workers, students, etc. However, when you want to place a restaurant, you must take into account many factors, such as: work seasons, high and low demand, special days and dates, direct competition, secondary competition and mainly target audience.\n\nAssuming that you already have the necessary capital to place your restaurant, the next thing you must determine is the place where your business would be best located. For this task, you can go to a finance specialist, who will allow you to do a market study and determine all these factors and the most favorable for you, after a considerable time. However, if you do not have that time, if you need to place your restaurant as soon as possible, so that it generates profits, you should go with a person who has good experience with data management, in addition, who can provide you with a answer and a solution to your problem, in a much shorter time."
        },
        {
            "cell_type": "markdown",
            "metadata": {},
            "source": "Therefore, this data analysis is aimed at businessmen or entrepreneurs who want to start a business and are looking for a suitable place to place it.\n\nThis project is located in the city of Bogot\u00e1 - Colombia, more specifically for the town of Chapinero, in which an analysis of the locations is intended to be carried out geographically, in order to determine the best place to place a restaurant."
        },
        {
            "cell_type": "markdown",
            "metadata": {},
            "source": "## Data"
        },
        {
            "cell_type": "markdown",
            "metadata": {},
            "source": "As mentioned above, the geographic analysis is carried out on the Chapinero area. This area is selected because it is the sector of the city with the largest number of universities located within the town, in addition to being an area with a good flow of people and a large number of access roads.\n\nThe data was extracted from web pages, in which the latitude and longitude data for each of the neighborhoods can be extracted, in addition to allowing the data to be extracted directly in csv format (comma-separated values).\n\nThe extraction, cleaning, handling and adjustment of the data was carried out previously, in order to emphasize the analysis of the project and not the operation of the data; for the same reason, the data can be shown already loaded in a pandas dataframe and in its correct structure."
        },
        {
            "cell_type": "code",
            "execution_count": 1,
            "metadata": {},
            "outputs": [
                {
                    "data": {
                        "text/html": "<div>\n<style scoped>\n    .dataframe tbody tr th:only-of-type {\n        vertical-align: middle;\n    }\n\n    .dataframe tbody tr th {\n        vertical-align: top;\n    }\n\n    .dataframe thead th {\n        text-align: right;\n    }\n</style>\n<table border=\"1\" class=\"dataframe\">\n  <thead>\n    <tr style=\"text-align: right;\">\n      <th></th>\n      <th>Borough</th>\n      <th>Neighborhood</th>\n      <th>Latitude</th>\n      <th>Longitude</th>\n    </tr>\n  </thead>\n  <tbody>\n    <tr>\n      <th>0</th>\n      <td>Chapinero</td>\n      <td>Sucre</td>\n      <td>4.632268</td>\n      <td>-74.066803</td>\n    </tr>\n    <tr>\n      <th>1</th>\n      <td>Chapinero</td>\n      <td>Cataluna</td>\n      <td>4.637752</td>\n      <td>-74.062538</td>\n    </tr>\n    <tr>\n      <th>2</th>\n      <td>Chapinero</td>\n      <td>Marly</td>\n      <td>4.639927</td>\n      <td>-74.063965</td>\n    </tr>\n    <tr>\n      <th>3</th>\n      <td>Chapinero</td>\n      <td>Chapinero Central</td>\n      <td>4.644474</td>\n      <td>-74.065406</td>\n    </tr>\n    <tr>\n      <th>4</th>\n      <td>Chapinero</td>\n      <td>Chapinero Norte</td>\n      <td>4.650260</td>\n      <td>-74.064364</td>\n    </tr>\n  </tbody>\n</table>\n</div>",
                        "text/plain": "     Borough       Neighborhood  Latitude  Longitude\n0  Chapinero              Sucre  4.632268 -74.066803\n1  Chapinero           Cataluna  4.637752 -74.062538\n2  Chapinero              Marly  4.639927 -74.063965\n3  Chapinero  Chapinero Central  4.644474 -74.065406\n4  Chapinero    Chapinero Norte  4.650260 -74.064364"
                    },
                    "execution_count": 1,
                    "metadata": {},
                    "output_type": "execute_result"
                }
            ],
            "source": "# The code was removed by Watson Studio for sharing."
        }
    ],
    "metadata": {
        "kernelspec": {
            "display_name": "Python 3.7",
            "language": "python",
            "name": "python3"
        },
        "language_info": {
            "codemirror_mode": {
                "name": "ipython",
                "version": 3
            },
            "file_extension": ".py",
            "mimetype": "text/x-python",
            "name": "python",
            "nbconvert_exporter": "python",
            "pygments_lexer": "ipython3",
            "version": "3.7.10"
        }
    },
    "nbformat": 4,
    "nbformat_minor": 1
}